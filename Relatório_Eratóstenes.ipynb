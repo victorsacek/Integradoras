{
 "cells": [
  {
   "cell_type": "code",
   "execution_count": 1,
   "metadata": {
    "collapsed": true
   },
   "outputs": [],
   "source": [
    "%matplotlib inline\n",
    "from __future__ import division, print_function\n",
    "\n",
    "import numpy as np\n",
    "import matplotlib.pyplot as plt"
   ]
  },
  {
   "cell_type": "markdown",
   "metadata": {},
   "source": [
    "# Leitura dos dados \n",
    "\n",
    "Inicialmente vocês deverão carregar o arquivo `sombras_UnB_USP.txt` com os valores do comprimento da sombra da haste medidos na UnB e no IAG/USP.\n",
    "\n",
    "Para isto vocês deverão utilizar o comando `loadtxt`:\n",
    "\n",
    "`dia, Bra_min, Bra_max, SP_min, SP_max = np.loadtxt(\"sombras_UnB_USP.txt\",skiprows=1,unpack=True)`\n",
    "\n",
    "\n"
   ]
  },
  {
   "cell_type": "code",
   "execution_count": 4,
   "metadata": {
    "collapsed": true
   },
   "outputs": [],
   "source": [
    "dia, Bra_min, Bra_max, SP_min, SP_max = np.loadtxt(\"sombras_UnB_USP.txt\",skiprows=1,unpack=True)"
   ]
  },
  {
   "cell_type": "markdown",
   "metadata": {},
   "source": [
    "Vamos calcular o valor médio entre os valores máximos e mínimos e plotar um gráfico entre o comprimento observado em São Paulo e em Brasília:"
   ]
  },
  {
   "cell_type": "code",
   "execution_count": 21,
   "metadata": {
    "collapsed": false
   },
   "outputs": [
    {
     "data": {
      "text/plain": [
       "(195, 210)"
      ]
     },
     "execution_count": 21,
     "metadata": {},
     "output_type": "execute_result"
    },
    {
     "data": {
      "image/png": "[encoded data removed]",
      "text/plain": [
       "<matplotlib.figure.Figure at 0x110141550>"
      ]
     },
     "metadata": {},
     "output_type": "display_data"
    }
   ],
   "source": [
    "Bra_mean = (Bra_min+Bra_max)/2.\n",
    "SP_mean = (SP_min+SP_max)/2.\n",
    "\n",
    "\n",
    "plt.plot(Bra_mean[(dia==3)],SP_mean[(dia==3)],\".k\")\n",
    "plt.plot(Bra_mean[(dia==4)],SP_mean[(dia==4)],\".b\")\n",
    "plt.plot(Bra_mean[(dia==5)],SP_mean[(dia==5)],\".r\")\n",
    "plt.plot(Bra_mean[(dia==6)],SP_mean[(dia==6)],\".g\")\n",
    "\n",
    "plt.xlim([145,155])\n",
    "plt.ylim([195,210])"
   ]
  },
  {
   "cell_type": "markdown",
   "metadata": {},
   "source": [
    "O meio-dia solar seria próximo ao momento em que a sombra é mínima em cada dia. Assim vamos selecionar em cada dia o menor valor observado."
   ]
  },
  {
   "cell_type": "code",
   "execution_count": 33,
   "metadata": {
    "collapsed": false
   },
   "outputs": [
    {
     "name": "stdout",
     "output_type": "stream",
     "text": [
      "[ 148.5  150.5  152.5  153.5]\n",
      "[ 196.05  198.5   201.5   205.5 ]\n"
     ]
    }
   ],
   "source": [
    "md_Bra=[]\n",
    "md_SP=[]\n",
    "for i in range(3,7):\n",
    "    md_Bra = np.append(md_Bra,np.min(Bra_mean[(dia==i)]))\n",
    "    md_SP = np.append(md_SP,np.min(SP_mean[(dia==i)]))\n",
    "\n",
    "print(md_Bra)\n",
    "print(md_SP)"
   ]
  },
  {
   "cell_type": "code",
   "execution_count": 40,
   "metadata": {
    "collapsed": false
   },
   "outputs": [
    {
     "data": {
      "text/plain": [
       "(195, 210)"
      ]
     },
     "execution_count": 40,
     "metadata": {},
     "output_type": "execute_result"
    },
    {
     "data": {
      "image/png": "[encoded data removed]",
      "text/plain": [
       "<matplotlib.figure.Figure at 0x1114af190>"
      ]
     },
     "metadata": {},
     "output_type": "display_data"
    }
   ],
   "source": [
    "plt.plot(md_Bra,md_SP,\".k\")\n",
    "\n",
    "plt.xlim([145,155])\n",
    "plt.ylim([195,210])"
   ]
  },
  {
   "cell_type": "code",
   "execution_count": 65,
   "metadata": {
    "collapsed": false
   },
   "outputs": [
    {
     "name": "stdout",
     "output_type": "stream",
     "text": [
      "[ 41931.62654159  41903.30319918  41454.31777901  39447.6057768 ]\n"
     ]
    }
   ],
   "source": [
    "theta_Bra = np.arctan(240/md_Bra)*180/np.pi\n",
    "theta_SP = np.arctan(240/md_SP)*180/np.pi\n",
    "\n",
    "phi_Bra = 90. - theta_Bra\n",
    "phi_SP = 90. - theta_SP\n",
    "\n",
    "circ = 360.*873.27/(phi_SP-phi_Bra)\n",
    "\n",
    "print(circ)"
   ]
  },
  {
   "cell_type": "markdown",
   "metadata": {},
   "source": [
    "A circunferência meridional, ou seja um grande círculo passando pelos pólos da Terra, é de 40007.86 km. Plote o gráfico dos valores obtidos ao redor do valor real:\n"
   ]
  },
  {
   "cell_type": "code",
   "execution_count": 66,
   "metadata": {
    "collapsed": false
   },
   "outputs": [
    {
     "data": {
      "text/plain": [
       "(35000, 45000)"
      ]
     },
     "execution_count": 66,
     "metadata": {},
     "output_type": "execute_result"
    },
    {
     "data": {
      "image/png": "[encoded data removed]",
      "text/plain": [
       "<matplotlib.figure.Figure at 0x11070b890>"
      ]
     },
     "metadata": {},
     "output_type": "display_data"
    }
   ],
   "source": [
    "plt.plot([3,4,5,6],circ,\"o\")\n",
    "plt.plot([2,7],[40007.86,40007.86])\n",
    "\n",
    "plt.xlim([2,7])\n",
    "plt.ylim([35000,45000])"
   ]
  },
  {
   "cell_type": "markdown",
   "metadata": {},
   "source": [
    "Digamos que o erro nas medidas esteja da ordem de um centímetro. Estime quanto este erro influenciaria no valor da circunferência da Terra."
   ]
  },
  {
   "cell_type": "code",
   "execution_count": 67,
   "metadata": {
    "collapsed": false
   },
   "outputs": [
    {
     "name": "stdout",
     "output_type": "stream",
     "text": [
      "[ 43775.48157576  43728.09362061  43221.43537424  41028.79952877]\n"
     ]
    },
    {
     "data": {
      "text/plain": [
       "(35000, 45000)"
      ]
     },
     "execution_count": 67,
     "metadata": {},
     "output_type": "execute_result"
    },
    {
     "data": {
      "image/png": "[encoded data removed]",
      "text/plain": [
       "<matplotlib.figure.Figure at 0x11070ba10>"
      ]
     },
     "metadata": {},
     "output_type": "display_data"
    }
   ],
   "source": [
    "theta_Bra = np.arctan(240/(md_Bra+1))*180/np.pi\n",
    "theta_SP = np.arctan(240/(md_SP-1))*180/np.pi\n",
    "                     \n",
    "phi_Bra = 90. - theta_Bra\n",
    "phi_SP = 90. - theta_SP\n",
    "\n",
    "circ2 = 360.*873.27/(phi_SP-phi_Bra)\n",
    "\n",
    "print(circ2)\n",
    "                     \n",
    "plt.plot([3,4,5,6],circ2,\"o\")\n",
    "plt.plot([2,7],[40007.86,40007.86])\n",
    "\n",
    "plt.xlim([2,7])\n",
    "plt.ylim([35000,45000])"
   ]
  },
  {
   "cell_type": "code",
   "execution_count": 68,
   "metadata": {
    "collapsed": false
   },
   "outputs": [
    {
     "name": "stdout",
     "output_type": "stream",
     "text": [
      "[ 40236.51802513  40224.38856088  39825.68498506  37983.42499488]\n"
     ]
    },
    {
     "data": {
      "text/plain": [
       "(35000, 45000)"
      ]
     },
     "execution_count": 68,
     "metadata": {},
     "output_type": "execute_result"
    },
    {
     "data": {
      "image/png": "[encoded data removed]",
      "text/plain": [
       "<matplotlib.figure.Figure at 0x11085e890>"
      ]
     },
     "metadata": {},
     "output_type": "display_data"
    }
   ],
   "source": [
    "theta_Bra = np.arctan(240/(md_Bra-1))*180/np.pi\n",
    "theta_SP = np.arctan(240/(md_SP+1))*180/np.pi\n",
    "                     \n",
    "phi_Bra = 90. - theta_Bra\n",
    "phi_SP = 90. - theta_SP\n",
    "\n",
    "circ3 = 360.*873.27/(phi_SP-phi_Bra)\n",
    "\n",
    "print(circ3)\n",
    "                     \n",
    "plt.plot([3,4,5,6],circ3,\"o\")\n",
    "plt.plot([2,7],[40007.86,40007.86])\n",
    "\n",
    "plt.xlim([2,7])\n",
    "plt.ylim([35000,45000])"
   ]
  },
  {
   "cell_type": "code",
   "execution_count": null,
   "metadata": {
    "collapsed": true
   },
   "outputs": [],
   "source": []
  }
 ],
 "metadata": {
  "kernelspec": {
   "display_name": "Python 2",
   "language": "python",
   "name": "python2"
  },
  "language_info": {
   "codemirror_mode": {
    "name": "ipython",
    "version": 2
   },
   "file_extension": ".py",
   "mimetype": "text/x-python",
   "name": "python",
   "nbconvert_exporter": "python",
   "pygments_lexer": "ipython2",
   "version": "2.7.11"
  }
 },
 "nbformat": 4,
 "nbformat_minor": 0
}
