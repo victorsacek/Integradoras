{
 "cells": [
  {
   "cell_type": "code",
   "execution_count": 17,
   "metadata": {
    "collapsed": false
   },
   "outputs": [],
   "source": [
    "%matplotlib inline\n",
    "\n",
    "from __future__ import division, print_function\n",
    "\n",
    "import numpy as np\n",
    "import matplotlib.pyplot as plt"
   ]
  },
  {
   "cell_type": "markdown",
   "metadata": {},
   "source": [
    "# Relatório 2\n",
    "\n",
    "## Problemas integrados em Ciências da Terra \n",
    "\n",
    "Nome dos Integrantes do grupo: (Nome) (número), (Nome) (número), (Nome) (número)\n",
    "\n",
    "# Sumário do Relatório\n",
    "\n",
    " * Visão geral do experimento\n",
    " * Leituras dos dados\n",
    " * Obtendo a média de cada medida\n",
    " * Obtendo valor mínimo diário da sombra (meio-dia solar)\n",
    " * Cálculo da circunferência da Terra\n",
    " * Comparação com o valor conhecido\n",
    " * Estimativa de incerteza\n",
    " * Discussão sobre outras fontes de incerteza"
   ]
  },
  {
   "cell_type": "markdown",
   "metadata": {},
   "source": [
    "# Introdução"
   ]
  },
  {
   "cell_type": "markdown",
   "metadata": {},
   "source": [
    "(( Escreva aqui a introdução do seu relatório, descrevendo sobre o que o experimento discorre. ))"
   ]
  },
  {
   "cell_type": "markdown",
   "metadata": {},
   "source": [
    "# Leitura dos dados \n",
    "\n",
    "As medidas do comprimento da sombra da haste na USP e na UnB foram realizadas entre os dias 03/05 e 06/05 de 2016 sempre no mesmo horário nas duas localidades. As medidas estão no arquivo `sombras_UnB_USP.txt`\n",
    "\n",
    "Utilizando o comando abaixo é possível ver os valores adquiridos, juntamente com o dia de aquisição."
   ]
  },
  {
   "cell_type": "code",
   "execution_count": 18,
   "metadata": {
    "collapsed": false
   },
   "outputs": [],
   "source": [
    "%less sombras_UnB_USP.txt"
   ]
  },
  {
   "cell_type": "markdown",
   "metadata": {},
   "source": [
    "Para utilizar os dados dentro do Python é necessário carregar essa informação em variáveis. Para isto deve-se utilizar o comando `loadtxt` do pacote NumPy:\n",
    "\n",
    "```Python\n",
    "dia, unb_media, iag_min, iag_max = np.loadtxt(\"sombras_UnB_USP.txt\",skiprows=1,unpack=True)\n",
    "```"
   ]
  },
  {
   "cell_type": "code",
   "execution_count": 19,
   "metadata": {
    "collapsed": false
   },
   "outputs": [],
   "source": []
  },
  {
   "cell_type": "markdown",
   "metadata": {},
   "source": [
    "## Obtendo médias"
   ]
  },
  {
   "cell_type": "code",
   "execution_count": 20,
   "metadata": {
    "collapsed": true
   },
   "outputs": [],
   "source": [
    "#\n",
    "# Obtenha as médias para cada uma das medidas \n",
    "# em São Paulo, guardando os resultados nos \n",
    "# vetores iag_media\n",
    "#\n",
    "\n"
   ]
  },
  {
   "cell_type": "markdown",
   "metadata": {},
   "source": [
    "### Gráfico de dispersão dos pontos médios adquiridos no IAG e na UnB"
   ]
  },
  {
   "cell_type": "code",
   "execution_count": 38,
   "metadata": {
    "collapsed": false
   },
   "outputs": [],
   "source": [
    "#\n",
    "# Faça um gráfico das medidas médias feitas no IAG.\n",
    "#\n"
   ]
  },
  {
   "cell_type": "code",
   "execution_count": 39,
   "metadata": {
    "collapsed": false
   },
   "outputs": [],
   "source": [
    "#\n",
    "# Faça um gráfico das medidas médias feitas na UnB.\n",
    "#\n",
    "\n"
   ]
  },
  {
   "cell_type": "markdown",
   "metadata": {},
   "source": [
    "## Valores mínimos diários"
   ]
  },
  {
   "cell_type": "code",
   "execution_count": null,
   "metadata": {
    "collapsed": false
   },
   "outputs": [],
   "source": [
    "# O meio-dia solar seria próximo ao momento em que a sombra \n",
    "# é mínima em cada dia. Selecione em cada dia \n",
    "# o menor valor observado.\n",
    "\n",
    "md_unb=[ ]\n",
    "md_iag=[ ]\n",
    "for i in range(3,7):\n",
    "    md_unb = np.append(md_unb, np.min(unb_media[(dia==i)]))\n",
    "    md_iag = np.append(md_iag, np.min(iag_media[(dia==i)]))\n",
    "\n",
    "print(md_unb)\n",
    "print(md_iag)"
   ]
  },
  {
   "cell_type": "markdown",
   "metadata": {},
   "source": [
    "### Faça um gráfico dos valores mínimos por dia"
   ]
  },
  {
   "cell_type": "code",
   "execution_count": 40,
   "metadata": {
    "collapsed": false
   },
   "outputs": [],
   "source": [
    "#\n",
    "# Faça um gráfico de dispersão dos pontos medidos \n",
    "# em São Paulo e Brasília\n",
    "#\n"
   ]
  },
  {
   "cell_type": "markdown",
   "metadata": {},
   "source": [
    "## Estime o valor da circunferência da Terra para cada dia"
   ]
  },
  {
   "cell_type": "code",
   "execution_count": null,
   "metadata": {
    "collapsed": false
   },
   "outputs": [],
   "source": []
  },
  {
   "cell_type": "markdown",
   "metadata": {},
   "source": [
    "### Obtenha o valor da média e desvio padrão entre os dias"
   ]
  },
  {
   "cell_type": "code",
   "execution_count": null,
   "metadata": {
    "collapsed": false
   },
   "outputs": [],
   "source": []
  },
  {
   "cell_type": "markdown",
   "metadata": {},
   "source": [
    "# Discussão"
   ]
  },
  {
   "cell_type": "markdown",
   "metadata": {},
   "source": [
    "### Compare com o valor conhecido atualmente para a circunferência meridional "
   ]
  },
  {
   "cell_type": "markdown",
   "metadata": {},
   "source": [
    "\n",
    "[Wikipedia](https://en.wikipedia.org/wiki/Earth \"Visit Me!\")\n"
   ]
  },
  {
   "cell_type": "code",
   "execution_count": 41,
   "metadata": {
    "collapsed": false
   },
   "outputs": [],
   "source": [
    "# Calcule a diferença do valor calculado para o conhecido\n"
   ]
  },
  {
   "cell_type": "markdown",
   "metadata": {},
   "source": [
    "## Estimativa da incerteza\n",
    "\n",
    "Assumindo-se que o erro nas medidas esteja da ordem de um centímetro."
   ]
  },
  {
   "cell_type": "code",
   "execution_count": 42,
   "metadata": {
    "collapsed": false
   },
   "outputs": [],
   "source": [
    "# Nesta etapa vamos estimar quanto que este erro influenciaria no valor da circunferência da Terra.\n",
    "# Primeiramente, plote o gráfico dos valores da circunferência para cada um dos dias juntamente com o valor conhecido:\n",
    "# (encontre uma forma de diferenciar graficamente o valor conhecido dos outros valores)\n"
   ]
  },
  {
   "cell_type": "code",
   "execution_count": 43,
   "metadata": {
    "collapsed": false
   },
   "outputs": [],
   "source": [
    "# Assuma que as medidas em Brasília fossem deslocadas em um centímetro para \n",
    "# mais e as medidas em São Paulo fossem deslocadas um centímetro para menos.\n",
    "# Qual seria o novo valor de circunferência terrestre para cada dia de medição?"
   ]
  },
  {
   "cell_type": "code",
   "execution_count": 44,
   "metadata": {
    "collapsed": false
   },
   "outputs": [],
   "source": [
    "# Assuma agora que as medidas em Brasília fossem deslocadas em um centímetro para \n",
    "# menos e as medidas em São Paulo fossem deslocadas um centímetro para mais.\n",
    "# Qual seria o novo valor de circunferência terrestre para cada dia de medição?"
   ]
  },
  {
   "cell_type": "markdown",
   "metadata": {
    "collapsed": true
   },
   "source": [
    "# Discuta sobre outras fontes de incerteza"
   ]
  },
  {
   "cell_type": "markdown",
   "metadata": {},
   "source": []
  }
 ],
 "metadata": {
  "kernelspec": {
   "display_name": "Python 2",
   "language": "python",
   "name": "python2"
  },
  "language_info": {
   "codemirror_mode": {
    "name": "ipython",
    "version": 2
   },
   "file_extension": ".py",
   "mimetype": "text/x-python",
   "name": "python",
   "nbconvert_exporter": "python",
   "pygments_lexer": "ipython2",
   "version": "2.7.11"
  }
 },
 "nbformat": 4,
 "nbformat_minor": 0
}
