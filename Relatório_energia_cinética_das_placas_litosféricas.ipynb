{
 "cells": [
  {
   "cell_type": "code",
   "execution_count": null,
   "metadata": {
    "collapsed": true
   },
   "outputs": [],
   "source": [
    "%matplotlib inline\n",
    "\n",
    "from __future__ import division, print_function\n",
    "\n",
    "import numpy as np\n",
    "import matplotlib.pyplot as plt"
   ]
  },
  {
   "cell_type": "markdown",
   "metadata": {},
   "source": [
    "# Relatório 3\n",
    "\n",
    "## Problemas integrados em Ciências da Terra \n",
    "\n",
    "Nome dos Integrantes do grupo: (Nome) (número), (Nome) (número), (Nome) (número)\n",
    "\n",
    "# Sumário do Relatório\n",
    "\n",
    " * Definição de placas litosféricas e energia cinética\n",
    " * Estimativa dos parâmetros que compõem a energia cinética\n",
    " * Estimativa da energia cinética para as placas litosféricas do mundo todo\n",
    " * Comparação com a energia cinética de objetos do dia a dia."
   ]
  },
  {
   "cell_type": "markdown",
   "metadata": {},
   "source": [
    "# Introdução"
   ]
  },
  {
   "cell_type": "markdown",
   "metadata": {},
   "source": [
    "((Defina o que são placas litosféiras. Use a internet para pesquisar esses termos mas escreva as definições com suas próprias palavras))"
   ]
  },
  {
   "cell_type": "markdown",
   "metadata": {},
   "source": [
    "((Defina energia cinética e escreva a sua expressão matemática em função da massa e da velocidade de um determinado corpo))"
   ]
  },
  {
   "cell_type": "markdown",
   "metadata": {},
   "source": [
    "# Estimativa dos parâmetros que compõem a energia cinética"
   ]
  },
  {
   "cell_type": "markdown",
   "metadata": {},
   "source": [
    "((Entime um valor razoável para a velocidade de deslocamento das placas litosféricas sobre o planeta Terra))"
   ]
  },
  {
   "cell_type": "markdown",
   "metadata": {},
   "source": [
    "((Estime a massa de todas as placas litosféricas do planeta. Você pode determinar este valor através da relação entre massa, volume e densidade))"
   ]
  },
  {
   "cell_type": "markdown",
   "metadata": {},
   "source": [
    "# Estimativa da energia cinética das placas litosféricas."
   ]
  },
  {
   "cell_type": "markdown",
   "metadata": {},
   "source": [
    "((Com os valores obtidos no tópico anterior, estime a energia cinética das placas litosféricas em Joules.))"
   ]
  },
  {
   "cell_type": "markdown",
   "metadata": {},
   "source": [
    "# Comparação com objetos do dia a dia"
   ]
  },
  {
   "cell_type": "markdown",
   "metadata": {},
   "source": [
    "((Compare o resultado obtido com a energia cinética de um carro viajando numa estrada. Use valores razoáveis para a massa de um carro de passeio e a velocidade típica de um carro em uma auto-pista.))"
   ]
  }
 ],
 "metadata": {
  "kernelspec": {
   "display_name": "Python 2",
   "language": "python",
   "name": "python2"
  },
  "language_info": {
   "codemirror_mode": {
    "name": "ipython",
    "version": 2
   },
   "file_extension": ".py",
   "mimetype": "text/x-python",
   "name": "python",
   "nbconvert_exporter": "python",
   "pygments_lexer": "ipython2",
   "version": "2.7.11"
  }
 },
 "nbformat": 4,
 "nbformat_minor": 0
}
